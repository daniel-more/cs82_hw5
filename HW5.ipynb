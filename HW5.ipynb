{
 "cells": [
  {
   "cell_type": "markdown",
   "id": "47c2f91b",
   "metadata": {
    "lines_to_next_cell": 0,
    "vscode": {
     "languageId": "raw"
    }
   },
   "source": [
    "# <img style=\"float: left; padding-right: 10px; width: 45px\" src=\"https://raw.githubusercontent.com/Harvard-HES-ALM/master/main/ds-masters/content/images/hes-logo.png\"> CSCI E-82: Advanced ML, Data Mining and AI\n",
    "</br>\n",
    "\n",
    "\n",
    "**Harvard Extension School - Fall 2024**<br/>\n",
    "\n",
    "**Homework 5**: </br>\n",
    "\n",
    "**Professor**: Dr. Peter V. Henstock<br/>\n",
    "\n",
    "**Team Name**: ROC & Rolls</br>\n",
    "**Students**: </br>\n",
    "\n",
    "**Due Date**: 25/Nov/2024, 8:00pm EST</br>\n",
    "\n",
    "----\n",
    "\n",
    "<hr style=\"height:2pt\">\n",
    "\n",
    "a"
   ]
  },
  {
   "cell_type": "code",
   "execution_count": 21,
   "id": "232251a6",
   "metadata": {},
   "outputs": [],
   "source": [
    "# RUN THIS CELL TO GET CSS Styles for CSC-S-82\n",
    "import requests\n",
    "from IPython.core.display import HTML\n",
    "styles = requests.get(\n",
    "    \"https://raw.githubusercontent.com/Harvard-HES-ALM/master/main/master/content/styles/\"\n",
    "    \"csci-e-82.css\"\n",
    ").text"
   ]
  },
  {
   "cell_type": "markdown",
   "id": "e39613c8",
   "metadata": {},
   "source": [
    "**Load all libraries needed for our homework**"
   ]
  },
  {
   "cell_type": "code",
   "execution_count": 22,
   "id": "f28947ff",
   "metadata": {},
   "outputs": [],
   "source": [
    "import string\n",
    "import re\n",
    "import pandas as pd # pip install pandas\n",
    "import numpy as np\n",
    "import matplotlib.pyplot as plt # pip install matplotlib\n",
    "import seaborn as sns # pip install seaborn\n",
    "import pickle\n",
    "\n",
    "from sklearn import manifold\n",
    "\n",
    "import nltk # pip install nltk\n",
    "from nltk.corpus import stopwords \n",
    "# nltk.download('stopwords')\n",
    "# nltk.download('wordnet')\n",
    "# nltk.download('punkt')\n",
    "\n",
    "import seaborn as sns\n",
    "\n",
    "from nltk.stem.porter import PorterStemmer\n",
    "\n",
    "import spacy # pip install spacy\n",
    "\n",
    "from sklearn.feature_extraction.text import CountVectorizer, TfidfVectorizer # pip install scikit-learn\n",
    "from sklearn.metrics.pairwise import cosine_similarity\n",
    "import gensim # pip install gensim\n",
    "from gensim.models import word2vec  #pip install word2vec\n",
    "\n",
    "# from wordcloud import WordCloud  # pip install wordcloud\n",
    "# from textblob import TextBlob  # Sentiment Analysis - pip install textblob\n",
    "# from sentence_transformers import SentenceTransformer, util # pip install sentence_transformers"
   ]
  },
  {
   "cell_type": "code",
   "execution_count": 26,
   "id": "486362f5",
   "metadata": {},
   "outputs": [
    {
     "data": {
      "text/html": [
       "<div>\n",
       "<style scoped>\n",
       "    .dataframe tbody tr th:only-of-type {\n",
       "        vertical-align: middle;\n",
       "    }\n",
       "\n",
       "    .dataframe tbody tr th {\n",
       "        vertical-align: top;\n",
       "    }\n",
       "\n",
       "    .dataframe thead th {\n",
       "        text-align: right;\n",
       "    }\n",
       "</style>\n",
       "<table border=\"1\" class=\"dataframe\">\n",
       "  <thead>\n",
       "    <tr style=\"text-align: right;\">\n",
       "      <th></th>\n",
       "      <th>event_id</th>\n",
       "      <th>speaker_names_raw</th>\n",
       "      <th>rawtext</th>\n",
       "      <th>Order</th>\n",
       "      <th>Year</th>\n",
       "      <th>Party</th>\n",
       "      <th>PartyWin</th>\n",
       "      <th>Round</th>\n",
       "      <th>AgeDem</th>\n",
       "      <th>AgeRep</th>\n",
       "      <th>AgeDiff</th>\n",
       "      <th>InflationRate</th>\n",
       "      <th>GDPgrowth</th>\n",
       "    </tr>\n",
       "  </thead>\n",
       "  <tbody>\n",
       "    <tr>\n",
       "      <th>0</th>\n",
       "      <td>1960_KennedyNixon_Rd1</td>\n",
       "      <td>KENNEDY</td>\n",
       "      <td>Mr. Smith, Mr. Nixon. In the election of 1860...</td>\n",
       "      <td>1</td>\n",
       "      <td>1960</td>\n",
       "      <td>democrat</td>\n",
       "      <td>democrat</td>\n",
       "      <td>1</td>\n",
       "      <td>43</td>\n",
       "      <td>47</td>\n",
       "      <td>4</td>\n",
       "      <td>1.46</td>\n",
       "      <td>NaN</td>\n",
       "    </tr>\n",
       "    <tr>\n",
       "      <th>1</th>\n",
       "      <td>1960_KennedyNixon_Rd1</td>\n",
       "      <td>NIXON</td>\n",
       "      <td>Mr. Smith, Senator Kennedy. The things that S...</td>\n",
       "      <td>1</td>\n",
       "      <td>1960</td>\n",
       "      <td>republican</td>\n",
       "      <td>democrat</td>\n",
       "      <td>1</td>\n",
       "      <td>43</td>\n",
       "      <td>47</td>\n",
       "      <td>4</td>\n",
       "      <td>1.46</td>\n",
       "      <td>NaN</td>\n",
       "    </tr>\n",
       "    <tr>\n",
       "      <th>2</th>\n",
       "      <td>1960_KennedyNixon_Rd1</td>\n",
       "      <td>KENNEDY</td>\n",
       "      <td>Well, the Vice President and I came to the Co...</td>\n",
       "      <td>1</td>\n",
       "      <td>1960</td>\n",
       "      <td>democrat</td>\n",
       "      <td>democrat</td>\n",
       "      <td>1</td>\n",
       "      <td>43</td>\n",
       "      <td>47</td>\n",
       "      <td>4</td>\n",
       "      <td>1.46</td>\n",
       "      <td>NaN</td>\n",
       "    </tr>\n",
       "    <tr>\n",
       "      <th>3</th>\n",
       "      <td>1960_KennedyNixon_Rd1</td>\n",
       "      <td>NIXON</td>\n",
       "      <td>I have no comment.</td>\n",
       "      <td>1</td>\n",
       "      <td>1960</td>\n",
       "      <td>republican</td>\n",
       "      <td>democrat</td>\n",
       "      <td>1</td>\n",
       "      <td>43</td>\n",
       "      <td>47</td>\n",
       "      <td>4</td>\n",
       "      <td>1.46</td>\n",
       "      <td>NaN</td>\n",
       "    </tr>\n",
       "    <tr>\n",
       "      <th>4</th>\n",
       "      <td>1960_KennedyNixon_Rd1</td>\n",
       "      <td>NIXON</td>\n",
       "      <td>It would be rather difficult to cover them in...</td>\n",
       "      <td>1</td>\n",
       "      <td>1960</td>\n",
       "      <td>republican</td>\n",
       "      <td>democrat</td>\n",
       "      <td>1</td>\n",
       "      <td>43</td>\n",
       "      <td>47</td>\n",
       "      <td>4</td>\n",
       "      <td>1.46</td>\n",
       "      <td>NaN</td>\n",
       "    </tr>\n",
       "  </tbody>\n",
       "</table>\n",
       "</div>"
      ],
      "text/plain": [
       "                event_id speaker_names_raw  \\\n",
       "0  1960_KennedyNixon_Rd1           KENNEDY   \n",
       "1  1960_KennedyNixon_Rd1             NIXON   \n",
       "2  1960_KennedyNixon_Rd1           KENNEDY   \n",
       "3  1960_KennedyNixon_Rd1             NIXON   \n",
       "4  1960_KennedyNixon_Rd1             NIXON   \n",
       "\n",
       "                                             rawtext  Order  Year       Party  \\\n",
       "0   Mr. Smith, Mr. Nixon. In the election of 1860...      1  1960    democrat   \n",
       "1   Mr. Smith, Senator Kennedy. The things that S...      1  1960  republican   \n",
       "2   Well, the Vice President and I came to the Co...      1  1960    democrat   \n",
       "3                                 I have no comment.      1  1960  republican   \n",
       "4   It would be rather difficult to cover them in...      1  1960  republican   \n",
       "\n",
       "   PartyWin  Round  AgeDem  AgeRep  AgeDiff  InflationRate  GDPgrowth  \n",
       "0  democrat      1      43      47        4           1.46        NaN  \n",
       "1  democrat      1      43      47        4           1.46        NaN  \n",
       "2  democrat      1      43      47        4           1.46        NaN  \n",
       "3  democrat      1      43      47        4           1.46        NaN  \n",
       "4  democrat      1      43      47        4           1.46        NaN  "
      ]
     },
     "metadata": {},
     "output_type": "display_data"
    },
    {
     "data": {
      "text/plain": [
       "31"
      ]
     },
     "execution_count": 26,
     "metadata": {},
     "output_type": "execute_result"
    }
   ],
   "source": [
    "df = pd.read_csv('data/debates.csv', encoding='latin1')\n",
    "# df = pd.read_csv('data/debates.csv', encoding='latin1')\n",
    "display(df.head())\n",
    "len(df['event_id'].unique())"
   ]
  },
  {
   "cell_type": "code",
   "execution_count": 28,
   "id": "4c439fbf",
   "metadata": {},
   "outputs": [
    {
     "data": {
      "text/plain": [
       "' Mr. Smith, Mr. Nixon. In the election of 1860, Abraham Lincoln said the question was whether this nation could exist half-slave or half-free. In the election of 1960, and with the world around us, the question is whether the world will exist half-slave or half-free, whether it will move in the direction of freedom, in the direction of the road that we are taking, or whether it will move in the direction of slavery. I think it will depend in great measure upon what we do here in the United States, on the kind of society that we build, on the kind of strength that we maintain. We discuss tonight domestic issues, but I would not want that to be any implication to be given that this does not involve directly our struggle with Mr. Khrushchev for survival. Mr. Khrushchev is in New York, and he maintains the Communist offensive throughout the world because of the productive power of the Soviet Union itself. The Chinese Communists have always had a large population. But they are important and dangerous now because they are mounting a major effort within their own country. The kind of country we have here, the kind of society we have, the kind of strength we build in the United States will be the defense of freedom. If we do well here, if we meet our obligations, if weÕre moving ahead, then I think freedom will be secure around the world. If we fail, then freedom fails. Therefore, I think the question before the American people is: Are we doing as much as we can do? Are we as strong as we should be? Are we as strong as we must be if weÕre going to maintain our independence, and if weÕre going to maintain and hold out the hand of friendship to those who look to us for assistance, to those who look to us for survival? I should make it very clear that I do not think weÕre doing enough, that I am not satisfied as an American with the progress that weÕre making. This is a great country, but I think it could be a greater country; and this is a powerful country, but I think it could be a more powerful country. IÕm not satisfied to have fifty percent of our steel-mill capacity unused. IÕm not satisfied when the United States had last year the lowest rate of economic growth of any major industrialized society in the world. Because economic growth means strength and vitality; it means weÕre able to sustain our defenses; it means weÕre able to meet our commitments abroad. IÕm not satisfied when we have over nine billion dollars worth of food Ð some of it rotting Ð even though there is a hungry world, and even though four million Americans wait every month for a food package from the government, which averages five cents a day per individual. I saw cases in West Virginia, here in the United States, where children took home part of their school lunch in order to feed their families because I donÕt think weÕre meeting our obligations toward these Americans. IÕm not satisfied when the Soviet Union is turning out twice as many scientists and engineers as we are. IÕm not satisfied when many of our teachers are inadequately paid, or when our children go to school part-time shifts. I think we should have an educational system second to none. IÕm not satisfied when I see men like Jimmy Hoffa Ð in charge of the largest union in the United States Ð still free. IÕm not satisfied when we are failing to develop the natural resources of the United States to the fullest. Here in the United States, which developed the Tennessee Valley and which built the Grand Coulee and the other dams in the Northwest United States at the present rate of hydropower production Ð and that is the hallmark of an industrialized society Ð the Soviet Union by 1975 will be producing more power than we are. These are all the things, I think, in this country that can make our society strong, or can mean that it stands still. IÕm not satisfied until every American enjoys his full constitutional rights. If a Negro baby is born Ð and this is true also of Puerto Ricans and Mexicans in some of our cities Ð he has about one-half as much chance to get through high school as a white baby. He has one-third as much chance to get through college as a white student. He has about a third as much chance to be a professional man, about half as much chance to own a house. He has about uh Ð four times as much chance that heÕll be out of work in his life as the white baby. I think we can do better. I donÕt want the talents of any American to go to waste. I know that there are those who want to turn everything over to the government. I donÕt at all. I want the individuals to meet their responsibilities. And I want the states to meet their responsibilities. But I think there is also a national responsibility. The argument has been used against every piece of social legislation in the last twenty-five years. The people of the United States individually could not have developed the Tennessee Valley; collectively they could have. A cotton farmer in Georgia or a peanut farmer or a dairy farmer in Wisconsin and Minnesota, he cannot protect himself against the forces of supply and demand in the market place; but working together in effective governmental programs he can do so. Seventeen million Americans, who live over sixty-five on an average Social Security check of about seventy-eight dollars a month, theyÕre not able to sustain themselves individually, but they can sustain themselves through the social security system. I donÕt believe in big government, but I believe in effective governmental action. And I think thatÕs the only way that the United States is going to maintain its freedom. ItÕs the only way that weÕre going to move ahead. I think we can do a better job. I think weÕre going to have to do a better job if we are going to meet the responsibilities which time and events have placed upon us. We cannot turn the job over to anyone else. If the United States fails, then the whole cause of freedom fails. And I think it depends in great measure on what we do here in this country. The reason Franklin Roosevelt was a good neighbor in Latin America was because he was a good neighbor in the United States. Because they felt that the American society was moving again. I want us to recapture that image. I want people in Latin America and Africa and Asia to start to look to America; to see how weÕre doing things; to wonder what the resident of the United States is doing; and not to look at Khrushchev, or look at the Chinese Communists. That is the obligation upon our generation. In 1933, Franklin Roosevelt said in his inaugural that this generation of Americans has a rendezvous with destiny. I think our generation of Americans has the same rendezvous. The question now is: Can freedom be maintained under the most severe tack Ð attack it has ever known? I think it can be. And I think in the final analysis it depends upon what we do here. I think itÕs time America started moving again.'"
      ]
     },
     "execution_count": 28,
     "metadata": {},
     "output_type": "execute_result"
    }
   ],
   "source": [
    "df.iloc[0]['rawtext']"
   ]
  },
  {
   "cell_type": "code",
   "execution_count": 4,
   "id": "1fcbd3d2",
   "metadata": {},
   "outputs": [
    {
     "data": {
      "text/plain": [
       "(1960, 2020)"
      ]
     },
     "execution_count": 4,
     "metadata": {},
     "output_type": "execute_result"
    }
   ],
   "source": [
    "df['Year'].min(), df['Year'].max()"
   ]
  },
  {
   "cell_type": "code",
   "execution_count": 5,
   "id": "8c378d8e",
   "metadata": {},
   "outputs": [
    {
     "data": {
      "text/html": [
       "<div>\n",
       "<style scoped>\n",
       "    .dataframe tbody tr th:only-of-type {\n",
       "        vertical-align: middle;\n",
       "    }\n",
       "\n",
       "    .dataframe tbody tr th {\n",
       "        vertical-align: top;\n",
       "    }\n",
       "\n",
       "    .dataframe thead th {\n",
       "        text-align: right;\n",
       "    }\n",
       "</style>\n",
       "<table border=\"1\" class=\"dataframe\">\n",
       "  <thead>\n",
       "    <tr style=\"text-align: right;\">\n",
       "      <th></th>\n",
       "      <th>doc_name</th>\n",
       "      <th>date</th>\n",
       "      <th>transcript</th>\n",
       "      <th>president</th>\n",
       "      <th>title</th>\n",
       "    </tr>\n",
       "  </thead>\n",
       "  <tbody>\n",
       "    <tr>\n",
       "      <th>0</th>\n",
       "      <td>january-22-1807-special-message-congress-burr-...</td>\n",
       "      <td>1807-01-22</td>\n",
       "      <td>TO THE SENATE AND HOUSE OF REPRESENTATIVES OF ...</td>\n",
       "      <td>Thomas Jefferson</td>\n",
       "      <td>January 22, 1807: Special Message to Congress ...</td>\n",
       "    </tr>\n",
       "    <tr>\n",
       "      <th>1</th>\n",
       "      <td>may-25-1813-message-special-congressional-sess...</td>\n",
       "      <td>1813-05-25</td>\n",
       "      <td>Fellow-Citizens of the Senate and of the House...</td>\n",
       "      <td>James Madison</td>\n",
       "      <td>May 25, 1813: Message on the Special Congressi...</td>\n",
       "    </tr>\n",
       "    <tr>\n",
       "      <th>2</th>\n",
       "      <td>april-2-1917-address-congress-requesting-decla...</td>\n",
       "      <td>1917-04-02</td>\n",
       "      <td>I have called the Congress into extraordinary ...</td>\n",
       "      <td>Woodrow Wilson</td>\n",
       "      <td>April 2, 1917: Address to Congress Requesting ...</td>\n",
       "    </tr>\n",
       "    <tr>\n",
       "      <th>3</th>\n",
       "      <td>april-10-1975-address-us-foreign-policy</td>\n",
       "      <td>1975-04-10</td>\n",
       "      <td>Mr. Speaker, Mr. President, distinguished gues...</td>\n",
       "      <td>Gerald Ford</td>\n",
       "      <td>April 10, 1975: Address on U.S. Foreign Policy</td>\n",
       "    </tr>\n",
       "    <tr>\n",
       "      <th>4</th>\n",
       "      <td>july-6-1848-message-regarding-treaty-guadalupe...</td>\n",
       "      <td>1848-07-06</td>\n",
       "      <td>To the House of Representatives of the United ...</td>\n",
       "      <td>James K. Polk</td>\n",
       "      <td>July 6, 1848: Message Regarding the Treaty of ...</td>\n",
       "    </tr>\n",
       "  </tbody>\n",
       "</table>\n",
       "</div>"
      ],
      "text/plain": [
       "                                            doc_name        date  \\\n",
       "0  january-22-1807-special-message-congress-burr-...  1807-01-22   \n",
       "1  may-25-1813-message-special-congressional-sess...  1813-05-25   \n",
       "2  april-2-1917-address-congress-requesting-decla...  1917-04-02   \n",
       "3            april-10-1975-address-us-foreign-policy  1975-04-10   \n",
       "4  july-6-1848-message-regarding-treaty-guadalupe...  1848-07-06   \n",
       "\n",
       "                                          transcript         president  \\\n",
       "0  TO THE SENATE AND HOUSE OF REPRESENTATIVES OF ...  Thomas Jefferson   \n",
       "1  Fellow-Citizens of the Senate and of the House...     James Madison   \n",
       "2  I have called the Congress into extraordinary ...    Woodrow Wilson   \n",
       "3  Mr. Speaker, Mr. President, distinguished gues...       Gerald Ford   \n",
       "4  To the House of Representatives of the United ...     James K. Polk   \n",
       "\n",
       "                                               title  \n",
       "0  January 22, 1807: Special Message to Congress ...  \n",
       "1  May 25, 1813: Message on the Special Congressi...  \n",
       "2  April 2, 1917: Address to Congress Requesting ...  \n",
       "3     April 10, 1975: Address on U.S. Foreign Policy  \n",
       "4  July 6, 1848: Message Regarding the Treaty of ...  "
      ]
     },
     "metadata": {},
     "output_type": "display_data"
    },
    {
     "data": {
      "text/plain": [
       "1057"
      ]
     },
     "execution_count": 5,
     "metadata": {},
     "output_type": "execute_result"
    }
   ],
   "source": [
    "df = pd.read_json('data/speeches.json')\n",
    "display(df.head())\n",
    "len(df['doc_name'].unique())"
   ]
  },
  {
   "cell_type": "code",
   "execution_count": 6,
   "id": "c4789a50",
   "metadata": {},
   "outputs": [
    {
     "data": {
      "text/plain": [
       "('1789-04-30', '2024-09-24T10:12:00-04:00')"
      ]
     },
     "execution_count": 6,
     "metadata": {},
     "output_type": "execute_result"
    }
   ],
   "source": [
    "df['date'].min(), df['date'].max()"
   ]
  },
  {
   "cell_type": "code",
   "execution_count": 7,
   "id": "aa2534e8",
   "metadata": {},
   "outputs": [],
   "source": [
    "from nltk.tokenize import word_tokenize\n",
    "from nltk.stem import WordNetLemmatizer\n",
    "\n",
    "stop_words = set(stopwords.words('english'))\n",
    "\n",
    "def lower_case(text):\n",
    "    text = text.lower()\n",
    "    return text\n",
    "\n",
    "def remove_punctuation(text):\n",
    "    text = re.sub(r'[^a-z\\s]', '', text)  # Remove punctuation and numbers\n",
    "    return text\n",
    "\n",
    "def remove_stopwords(text):\n",
    "    tokens = word_tokenize(text)  # Tokenize\n",
    "    filtered_tokens = [word for word in tokens if word not in stop_words]\n",
    "    return ' '.join(filtered_tokens)\n",
    "\n",
    "lemmatizer = WordNetLemmatizer()\n",
    "def lemmatize_text(text):\n",
    "    tokens = word_tokenize(text)\n",
    "    lemmatized_tokens = [lemmatizer.lemmatize(word) for word in tokens]\n",
    "    return ' '.join(lemmatized_tokens)\n",
    "\n"
   ]
  },
  {
   "cell_type": "code",
   "execution_count": 8,
   "id": "3b602d2d",
   "metadata": {},
   "outputs": [],
   "source": [
    "df['cleaned_text'] = df['transcript'].apply(lower_case)\n",
    "df['cleaned_text'] = df['cleaned_text'].apply(remove_punctuation)\n",
    "df['cleaned_text'] = df['cleaned_text'].apply(remove_stopwords)\n",
    "df['cleaned_text'] = df['cleaned_text'].apply(lemmatize_text)"
   ]
  },
  {
   "cell_type": "code",
   "execution_count": 9,
   "id": "75dd3a75",
   "metadata": {},
   "outputs": [
    {
     "data": {
      "text/html": [
       "<div>\n",
       "<style scoped>\n",
       "    .dataframe tbody tr th:only-of-type {\n",
       "        vertical-align: middle;\n",
       "    }\n",
       "\n",
       "    .dataframe tbody tr th {\n",
       "        vertical-align: top;\n",
       "    }\n",
       "\n",
       "    .dataframe thead th {\n",
       "        text-align: right;\n",
       "    }\n",
       "</style>\n",
       "<table border=\"1\" class=\"dataframe\">\n",
       "  <thead>\n",
       "    <tr style=\"text-align: right;\">\n",
       "      <th></th>\n",
       "      <th>doc_name</th>\n",
       "      <th>date</th>\n",
       "      <th>transcript</th>\n",
       "      <th>president</th>\n",
       "      <th>title</th>\n",
       "      <th>cleaned_text</th>\n",
       "    </tr>\n",
       "  </thead>\n",
       "  <tbody>\n",
       "    <tr>\n",
       "      <th>0</th>\n",
       "      <td>january-22-1807-special-message-congress-burr-...</td>\n",
       "      <td>1807-01-22</td>\n",
       "      <td>TO THE SENATE AND HOUSE OF REPRESENTATIVES OF ...</td>\n",
       "      <td>Thomas Jefferson</td>\n",
       "      <td>January 22, 1807: Special Message to Congress ...</td>\n",
       "      <td>senate house representative united statesagree...</td>\n",
       "    </tr>\n",
       "    <tr>\n",
       "      <th>1</th>\n",
       "      <td>may-25-1813-message-special-congressional-sess...</td>\n",
       "      <td>1813-05-25</td>\n",
       "      <td>Fellow-Citizens of the Senate and of the House...</td>\n",
       "      <td>James Madison</td>\n",
       "      <td>May 25, 1813: Message on the Special Congressi...</td>\n",
       "      <td>fellowcitizens senate house representative ear...</td>\n",
       "    </tr>\n",
       "    <tr>\n",
       "      <th>2</th>\n",
       "      <td>april-2-1917-address-congress-requesting-decla...</td>\n",
       "      <td>1917-04-02</td>\n",
       "      <td>I have called the Congress into extraordinary ...</td>\n",
       "      <td>Woodrow Wilson</td>\n",
       "      <td>April 2, 1917: Address to Congress Requesting ...</td>\n",
       "      <td>called congress extraordinary session serious ...</td>\n",
       "    </tr>\n",
       "    <tr>\n",
       "      <th>3</th>\n",
       "      <td>april-10-1975-address-us-foreign-policy</td>\n",
       "      <td>1975-04-10</td>\n",
       "      <td>Mr. Speaker, Mr. President, distinguished gues...</td>\n",
       "      <td>Gerald Ford</td>\n",
       "      <td>April 10, 1975: Address on U.S. Foreign Policy</td>\n",
       "      <td>mr speaker mr president distinguished guest go...</td>\n",
       "    </tr>\n",
       "    <tr>\n",
       "      <th>4</th>\n",
       "      <td>july-6-1848-message-regarding-treaty-guadalupe...</td>\n",
       "      <td>1848-07-06</td>\n",
       "      <td>To the House of Representatives of the United ...</td>\n",
       "      <td>James K. Polk</td>\n",
       "      <td>July 6, 1848: Message Regarding the Treaty of ...</td>\n",
       "      <td>house representative united state answer resol...</td>\n",
       "    </tr>\n",
       "  </tbody>\n",
       "</table>\n",
       "</div>"
      ],
      "text/plain": [
       "                                            doc_name        date  \\\n",
       "0  january-22-1807-special-message-congress-burr-...  1807-01-22   \n",
       "1  may-25-1813-message-special-congressional-sess...  1813-05-25   \n",
       "2  april-2-1917-address-congress-requesting-decla...  1917-04-02   \n",
       "3            april-10-1975-address-us-foreign-policy  1975-04-10   \n",
       "4  july-6-1848-message-regarding-treaty-guadalupe...  1848-07-06   \n",
       "\n",
       "                                          transcript         president  \\\n",
       "0  TO THE SENATE AND HOUSE OF REPRESENTATIVES OF ...  Thomas Jefferson   \n",
       "1  Fellow-Citizens of the Senate and of the House...     James Madison   \n",
       "2  I have called the Congress into extraordinary ...    Woodrow Wilson   \n",
       "3  Mr. Speaker, Mr. President, distinguished gues...       Gerald Ford   \n",
       "4  To the House of Representatives of the United ...     James K. Polk   \n",
       "\n",
       "                                               title  \\\n",
       "0  January 22, 1807: Special Message to Congress ...   \n",
       "1  May 25, 1813: Message on the Special Congressi...   \n",
       "2  April 2, 1917: Address to Congress Requesting ...   \n",
       "3     April 10, 1975: Address on U.S. Foreign Policy   \n",
       "4  July 6, 1848: Message Regarding the Treaty of ...   \n",
       "\n",
       "                                        cleaned_text  \n",
       "0  senate house representative united statesagree...  \n",
       "1  fellowcitizens senate house representative ear...  \n",
       "2  called congress extraordinary session serious ...  \n",
       "3  mr speaker mr president distinguished guest go...  \n",
       "4  house representative united state answer resol...  "
      ]
     },
     "execution_count": 9,
     "metadata": {},
     "output_type": "execute_result"
    }
   ],
   "source": [
    "df.head()"
   ]
  },
  {
   "cell_type": "code",
   "execution_count": 15,
   "id": "8917152a",
   "metadata": {},
   "outputs": [],
   "source": [
    "df['length'] = df['transcript'].str.len()"
   ]
  },
  {
   "cell_type": "code",
   "execution_count": 19,
   "id": "cfd95fea",
   "metadata": {},
   "outputs": [
    {
     "data": {
      "image/png": "[encoded data removed]",
      "text/plain": [
       "<Figure size 2000x400 with 1 Axes>"
      ]
     },
     "metadata": {},
     "output_type": "display_data"
    }
   ],
   "source": [
    "fig, ax = plt.subplots(figsize=(20, 4))\n",
    "sns.scatterplot(data=df, x='date', y='length');"
   ]
  },
  {
   "cell_type": "code",
   "execution_count": 13,
   "id": "1686a586",
   "metadata": {},
   "outputs": [
    {
     "data": {
      "text/plain": [
       "0        6177\n",
       "1        4544\n",
       "2        8326\n",
       "3       12946\n",
       "4        6776\n",
       "        ...  \n",
       "1052     3290\n",
       "1053     9674\n",
       "1054    22627\n",
       "1055    10368\n",
       "1056     4348\n",
       "Length: 1057, dtype: int64"
      ]
     },
     "execution_count": 13,
     "metadata": {},
     "output_type": "execute_result"
    }
   ],
   "source": [
    "df['transcript'].str.len() - df['cleaned_text'].str.len()"
   ]
  },
  {
   "cell_type": "markdown",
   "id": "c97f7524",
   "metadata": {},
   "source": [
    "<a id='#Hours-Invested'></a>\n",
    "\n",
    "#### Hours Invested\n",
    "\n",
    "164 hours"
   ]
  },
  {
   "cell_type": "markdown",
   "id": "3a43481f",
   "metadata": {},
   "source": [
    "<a id='#Time-for-notebook-to-run'></a>\n",
    "\n",
    "#### Time for notebook to run\n"
   ]
  },
  {
   "cell_type": "code",
   "execution_count": 10,
   "id": "ca20c4ac",
   "metadata": {},
   "outputs": [
    {
     "ename": "NameError",
     "evalue": "name 'time' is not defined",
     "output_type": "error",
     "traceback": [
      "\u001b[0;31m---------------------------------------------------------------------------\u001b[0m",
      "\u001b[0;31mNameError\u001b[0m                                 Traceback (most recent call last)",
      "Cell \u001b[0;32mIn[10], line 1\u001b[0m\n\u001b[0;32m----> 1\u001b[0m \u001b[38;5;28mprint\u001b[39m(\u001b[38;5;124mf\u001b[39m\u001b[38;5;124m\"\u001b[39m\u001b[38;5;124mIt took \u001b[39m\u001b[38;5;132;01m{\u001b[39;00m(\u001b[43mtime\u001b[49m\u001b[38;5;241m.\u001b[39mperf_counter()\u001b[38;5;250m \u001b[39m\u001b[38;5;241m-\u001b[39m\u001b[38;5;250m \u001b[39mstart_time)\u001b[38;5;241m/\u001b[39m\u001b[38;5;241m60\u001b[39m\u001b[38;5;132;01m:\u001b[39;00m\u001b[38;5;124m.2f\u001b[39m\u001b[38;5;132;01m}\u001b[39;00m\u001b[38;5;124m minutes for this notebook to run \u001b[39m\u001b[38;5;124m\"\u001b[39m)\n",
      "\u001b[0;31mNameError\u001b[0m: name 'time' is not defined"
     ]
    }
   ],
   "source": [
    "print(f\"It took {(time.perf_counter() - start_time)/60:.2f} minutes for this notebook to run \")"
   ]
  }
 ],
 "metadata": {
  "jupytext": {
   "formats": "ipynb,md"
  },
  "kernelspec": {
   "display_name": "nlp_env",
   "language": "python",
   "name": "python3"
  },
  "language_info": {
   "codemirror_mode": {
    "name": "ipython",
    "version": 3
   },
   "file_extension": ".py",
   "mimetype": "text/x-python",
   "name": "python",
   "nbconvert_exporter": "python",
   "pygments_lexer": "ipython3",
   "version": "3.10.15"
  }
 },
 "nbformat": 4,
 "nbformat_minor": 5
}
